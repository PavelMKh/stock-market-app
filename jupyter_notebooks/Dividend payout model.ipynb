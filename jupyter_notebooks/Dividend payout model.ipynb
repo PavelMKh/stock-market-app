{
 "cells": [
  {
   "cell_type": "markdown",
   "id": "d38d604c-4781-434c-99ca-0480e71641d3",
   "metadata": {},
   "source": [
    "# 1. Load data"
   ]
  },
  {
   "cell_type": "code",
   "execution_count": 456,
   "id": "cf835557-77e2-499c-b347-206986a36236",
   "metadata": {
    "tags": []
   },
   "outputs": [],
   "source": [
    "import pandas as pd\n",
    "import sqlite3\n",
    "\n",
    "path = \"/Users/pavel/PycharmProjects/stock-market-app/src/financial_data.db\"\n",
    "\n",
    "sqlFinancials  = \"\"\"select *\n",
    "from balance_sheet bs\n",
    "left join pnl p\n",
    "on bs.ticker = p.ticker\n",
    "and bs.type = p.type\n",
    "and bs.fiscalDateEnding = p.fiscalDateEnding\n",
    "left join cash_flow cf\n",
    "on bs.ticker = cf.ticker\n",
    "and bs.type = cf.type\n",
    "and bs.fiscalDateEnding = cf.fiscalDateEnding\n",
    "\"\"\"\n",
    "conn = sqlite3.connect(path)\n",
    "financials_db = pd.read_sql(sqlFinancials, conn)\n",
    "conn.close()\n",
    "\n",
    "financials_db = financials_db.loc[:, ~financials_db.columns.duplicated()]\n",
    "\n",
    "sqlCandles = \"select * from candles\"\n",
    "conn = sqlite3.connect(path)\n",
    "candles_db = pd.read_sql(sqlCandles, conn)\n",
    "conn.close()\n",
    "\n",
    "# Counting forward looking 90-days average\n",
    "candles = candles_db[['date_time','ticker', 'close']].copy()\n",
    "candles = candles.sort_values(['ticker', 'date_time'])\n",
    "candles['avg_90d'] = (\n",
    "    candles.groupby('ticker')['close']\n",
    "    .apply(lambda x: x.shift(-90).rolling(90).mean())\n",
    "    .reset_index(level=0, drop=True)\n",
    ")\n",
    "\n",
    "\n",
    "# Merge financials and stock prices data\n",
    "candles['date_time'] = pd.to_datetime(candles['date_time'])\n",
    "\n",
    "financials_db['fiscalDateEnding'] = pd.to_datetime(financials_db['fiscalDateEnding'])\n",
    "\n",
    "candles = candles.sort_values(by='date_time')\n",
    "financials_db = financials_db.sort_values(by='fiscalDateEnding')\n",
    "\n",
    "financials_data = pd.merge_asof(\n",
    "    financials_db,\n",
    "    candles,\n",
    "    left_on='fiscalDateEnding',\n",
    "    right_on='date_time',\n",
    "    by='ticker',\n",
    "    direction='nearest'  # use nearest values\n",
    ")\n",
    "\n",
    "financials = financials_data[financials_data['type'] == 'quarterly'].copy()\n",
    "financials['dividendPayout'] = financials['dividendPayout'].fillna(0)"
   ]
  },
  {
   "cell_type": "markdown",
   "id": "f6e223bc-45fb-4b58-a44e-5af5df547741",
   "metadata": {},
   "source": [
    "# 2. Generate features"
   ]
  },
  {
   "cell_type": "code",
   "execution_count": 458,
   "id": "a122ac5a-2a87-453f-be76-870a5cfb0423",
   "metadata": {
    "tags": []
   },
   "outputs": [],
   "source": [
    "# Create features:\n",
    "def calculate_features(financials):\n",
    "    # - ebitda ltm YoY growth: ebitda_ltm_t / ebitda_ltm_t-1\n",
    "    financials['ebitda_ltm'] = financials['ebitda'].rolling(4).sum()\n",
    "    financials['ebitda_ltm_g'] = financials['ebitda_ltm'] / financials['ebitda'].shift(1) * 100\n",
    "    \n",
    "    financials['ebitda_ltm_g_avg'] = financials['ebitda_ltm_g'] / financials['ebitda'].rolling(4).sum()\n",
    "    \n",
    "\n",
    "    # - revenue growth: revenue_ltm_t / revenue_ltm_t-4\n",
    "    financials['revenue_ltm'] = financials['totalRevenue'].rolling(4).sum()\n",
    "    financials['revenue_g'] = financials['revenue_ltm'] / financials['revenue_ltm'].shift(4)\n",
    "    \n",
    "    # - net_income growth: net_income_t / net_income_t-1\n",
    "    financials['net_income_ltm'] = financials['netIncome'].rolling(4).sum()\n",
    "    financials['net_income_g'] = financials['net_income_ltm'] / financials['net_income_ltm'].shift(4)\n",
    "\n",
    "    # - price growth\n",
    "    financials['avg_90d_g'] = financials['avg_90d'] / financials['avg_90d'].shift(1)\n",
    "    \n",
    "    # - dividend payout ratio\n",
    "    financials['dividend_payout_ltm'] = financials['dividendPayout'].rolling(4).sum()\n",
    "    financials['div_payout_ratio'] = financials['dividend_payout_ltm'] / financials['net_income_ltm'].shift(2)\n",
    "    \n",
    "    financials['div_payout_avg'] = financials['div_payout_ratio'].rolling(window=4).mean()\n",
    "\n",
    "    # - cash-to-dividends\n",
    "    financials['cash_to_div'] = financials['cashAndCashEquivalentsAtCarryingValue'] / financials['dividend_payout_ltm']\n",
    "    \n",
    "    # - debt-to-ebitda\n",
    "    financials['debt_ebitda'] = (financials['shortTermDebt'] + financials['longTermDebt']) / financials['ebitda_ltm']\n",
    "\n",
    "    # - debt-to-equity\n",
    "    financials['debt_equity'] = (financials['shortTermDebt'] + financials['longTermDebt']) / financials['totalShareholderEquity']\n",
    "    \n",
    "    # - cash-to-assets\n",
    "    financials['cash_to_assets'] = financials['cashAndCashEquivalentsAtCarryingValue']/financials['totalAssets'] * 100\n",
    "    \n",
    "    financials['cash_to_assets_avg'] = financials['cash_to_assets'].rolling(window=4).mean()\n",
    "    \n",
    "    # - ebitda margin: ebitda / sales\n",
    "    financials['ebitda_margin'] = financials['ebitda_ltm'] / financials['revenue_ltm'] * 100\n",
    "    \n",
    "    financials['ebitda_margin_avg'] = financials['ebitda_margin'].rolling(window=4).mean()\n",
    "\n",
    "    # - roe : net profit / equity\n",
    "    financials['roe'] = financials['net_income_ltm'] / financials['totalShareholderEquity'] * 100\n",
    "    financials['roe_avg'] = financials['roe'].rolling(window=8).mean()\n",
    "\n",
    "    # - ebitda margin growth: em_t / em_t-1\n",
    "    financials['ebitda_margin_g'] = financials['ebitda_margin'] / financials['ebitda_margin'].shift(1)\n",
    "    \n",
    "    return financials"
   ]
  },
  {
   "cell_type": "code",
   "execution_count": 459,
   "id": "e4c00e9d-dfb1-4547-996f-6b62a9540422",
   "metadata": {
    "tags": []
   },
   "outputs": [],
   "source": [
    "financials_feat = financials.groupby('ticker', group_keys=False).apply(calculate_features).copy()"
   ]
  },
  {
   "cell_type": "code",
   "execution_count": 463,
   "id": "ecc1c5eb-0eb9-4c4a-acfd-6e3f601abad2",
   "metadata": {
    "tags": []
   },
   "outputs": [],
   "source": [
    "financials_late = financials_feat.groupby('ticker', as_index=False).apply(lambda x: x.loc[x['fiscalDateEnding'].idxmax()]).copy()"
   ]
  },
  {
   "cell_type": "markdown",
   "id": "dcca982e-174a-48ef-811f-cf52725dc856",
   "metadata": {},
   "source": [
    "# 3. Exploration analysis of dependencies"
   ]
  },
  {
   "cell_type": "code",
   "execution_count": 466,
   "id": "cb1a7111-0fc3-4d6d-b8e9-58a220674fed",
   "metadata": {
    "tags": []
   },
   "outputs": [],
   "source": [
    "import matplotlib.pyplot as plt\n",
    "\n",
    "def create_plots(data, target, features):\n",
    "    for feature in features:\n",
    "        plt.scatter(data[feature], data[target])\n",
    "        plt.xlabel(feature)\n",
    "        plt.ylabel(target)\n",
    "        plt.show()"
   ]
  },
  {
   "cell_type": "code",
   "execution_count": 468,
   "id": "4ef01aef-425c-4563-9bd8-5f4224c25084",
   "metadata": {
    "tags": []
   },
   "outputs": [],
   "source": [
    "# define target and features\n",
    "target = 'div_payout_avg'\n",
    "features = ['ebitda_margin_avg', 'roe_avg', 'cash_to_assets_avg', 'debt_ebitda', 'ebitda_ltm_g_avg']"
   ]
  },
  {
   "cell_type": "code",
   "execution_count": null,
   "id": "5928f4e4-4d92-45be-874e-179a31555ad5",
   "metadata": {
    "tags": []
   },
   "outputs": [],
   "source": [
    "create_plots(financials_late, target, features)"
   ]
  },
  {
   "cell_type": "code",
   "execution_count": 472,
   "id": "9227df2f-1caa-4e29-929d-361458bfb7be",
   "metadata": {
    "tags": []
   },
   "outputs": [
    {
     "data": {
      "text/plain": [
       "9       BP\n",
       "26    INTC\n",
       "37      MU\n",
       "53       T\n",
       "Name: ticker, dtype: object"
      ]
     },
     "execution_count": 472,
     "metadata": {},
     "output_type": "execute_result"
    }
   ],
   "source": [
    "financials_late[financials_late['div_payout_avg'] < 0]['ticker']"
   ]
  },
  {
   "cell_type": "code",
   "execution_count": 474,
   "id": "bc1a4ec0-56c9-4a61-a8a0-6f924f36fa18",
   "metadata": {
    "tags": []
   },
   "outputs": [],
   "source": [
    "# removing outliers\n",
    "final_columns = ['ticker', 'fiscalDateEnding', target] + features\n",
    "\n",
    "financials_clean = financials_late[\n",
    "    (financials_late['div_payout_avg'] > 0) & \n",
    "    (financials_late['div_payout_avg'] < 1.1) &\n",
    "    (financials_late['roe_avg'] < 2000) &\n",
    "    (financials_late['roe_avg'] > -5) & \n",
    "    (financials_late['ebitda_ltm_g_avg'] > 0)][final_columns].copy()"
   ]
  },
  {
   "cell_type": "code",
   "execution_count": null,
   "id": "cba925fe-569b-4224-b756-55a143eec912",
   "metadata": {
    "tags": []
   },
   "outputs": [],
   "source": [
    "import seaborn as sns \n",
    "\n",
    "plt.figure(figsize=(12,4))\n",
    "sns.heatmap(financials_clean.isnull(),cbar=False,cmap='viridis',yticklabels=False)\n",
    "plt.title('Missing value in the dataset')"
   ]
  },
  {
   "cell_type": "code",
   "execution_count": 478,
   "id": "a9033a24-5128-47d3-a2ad-75e2290a1ab9",
   "metadata": {
    "tags": []
   },
   "outputs": [],
   "source": [
    "financials_clean = financials_clean.dropna().copy()"
   ]
  },
  {
   "cell_type": "code",
   "execution_count": null,
   "id": "049772e6-44cf-41fb-bb1e-b1d7036fabfc",
   "metadata": {
    "tags": []
   },
   "outputs": [],
   "source": [
    "create_plots(financials_clean, target, features)"
   ]
  },
  {
   "cell_type": "markdown",
   "id": "7cce2d01-4642-4604-97a1-abf9415d6fa7",
   "metadata": {},
   "source": [
    "# 4. Target and features preprocessing"
   ]
  },
  {
   "cell_type": "code",
   "execution_count": 483,
   "id": "27c47cee-95bb-4730-a232-80123cafa80a",
   "metadata": {
    "tags": []
   },
   "outputs": [
    {
     "name": "stderr",
     "output_type": "stream",
     "text": [
      "/opt/anaconda3/lib/python3.11/site-packages/pandas/core/arraylike.py:396: RuntimeWarning: divide by zero encountered in log\n",
      "  result = getattr(ufunc, method)(*inputs, **kwargs)\n",
      "/opt/anaconda3/lib/python3.11/site-packages/pandas/core/arraylike.py:396: RuntimeWarning: invalid value encountered in log\n",
      "  result = getattr(ufunc, method)(*inputs, **kwargs)\n"
     ]
    }
   ],
   "source": [
    "import numpy as np\n",
    "\n",
    "# Calculate log for target and features\n",
    "financials_clean['Log_div_payout'] = np.log(financials_late['div_payout_avg'])\n",
    "\n",
    "target = 'Log_div_payout'\n",
    "\n",
    "# new_features = []\n",
    "# for feature in features:"
   ]
  },
  {
   "cell_type": "code",
   "execution_count": 485,
   "id": "867fe099-83e6-4889-8954-e14cc291c593",
   "metadata": {
    "tags": []
   },
   "outputs": [
    {
     "data": {
      "text/html": [
       "<div>\n",
       "<style scoped>\n",
       "    .dataframe tbody tr th:only-of-type {\n",
       "        vertical-align: middle;\n",
       "    }\n",
       "\n",
       "    .dataframe tbody tr th {\n",
       "        vertical-align: top;\n",
       "    }\n",
       "\n",
       "    .dataframe thead th {\n",
       "        text-align: right;\n",
       "    }\n",
       "</style>\n",
       "<table border=\"1\" class=\"dataframe\">\n",
       "  <thead>\n",
       "    <tr style=\"text-align: right;\">\n",
       "      <th></th>\n",
       "      <th>ticker</th>\n",
       "      <th>fiscalDateEnding</th>\n",
       "      <th>div_payout_avg</th>\n",
       "      <th>ebitda_margin_avg</th>\n",
       "      <th>roe_avg</th>\n",
       "      <th>cash_to_assets_avg</th>\n",
       "      <th>debt_ebitda</th>\n",
       "      <th>ebitda_ltm_g_avg</th>\n",
       "      <th>Log_div_payout</th>\n",
       "    </tr>\n",
       "  </thead>\n",
       "  <tbody>\n",
       "    <tr>\n",
       "      <th>0</th>\n",
       "      <td>AAPL</td>\n",
       "      <td>2024-03-31</td>\n",
       "      <td>0.157966</td>\n",
       "      <td>0.059154</td>\n",
       "      <td>3.974703</td>\n",
       "      <td>0.241780</td>\n",
       "      <td>-0.474476</td>\n",
       "      <td>-1.416715</td>\n",
       "      <td>-1.845376</td>\n",
       "    </tr>\n",
       "    <tr>\n",
       "      <th>1</th>\n",
       "      <td>ACN</td>\n",
       "      <td>2024-05-31</td>\n",
       "      <td>0.428729</td>\n",
       "      <td>-1.068525</td>\n",
       "      <td>-0.237590</td>\n",
       "      <td>0.892381</td>\n",
       "      <td>-0.649091</td>\n",
       "      <td>0.852128</td>\n",
       "      <td>-0.846931</td>\n",
       "    </tr>\n",
       "    <tr>\n",
       "      <th>3</th>\n",
       "      <td>AMAT</td>\n",
       "      <td>2024-04-28</td>\n",
       "      <td>0.152171</td>\n",
       "      <td>0.017693</td>\n",
       "      <td>0.346517</td>\n",
       "      <td>2.430422</td>\n",
       "      <td>-0.532184</td>\n",
       "      <td>0.605138</td>\n",
       "      <td>-1.882752</td>\n",
       "    </tr>\n",
       "    <tr>\n",
       "      <th>4</th>\n",
       "      <td>AMD</td>\n",
       "      <td>2024-03-31</td>\n",
       "      <td>0.058902</td>\n",
       "      <td>-0.533719</td>\n",
       "      <td>-1.064009</td>\n",
       "      <td>-0.495309</td>\n",
       "      <td>-0.565855</td>\n",
       "      <td>1.648311</td>\n",
       "      <td>-2.831888</td>\n",
       "    </tr>\n",
       "    <tr>\n",
       "      <th>7</th>\n",
       "      <td>AVGO</td>\n",
       "      <td>2024-05-05</td>\n",
       "      <td>0.587224</td>\n",
       "      <td>1.373367</td>\n",
       "      <td>0.349454</td>\n",
       "      <td>0.741456</td>\n",
       "      <td>0.822233</td>\n",
       "      <td>-0.515408</td>\n",
       "      <td>-0.532349</td>\n",
       "    </tr>\n",
       "  </tbody>\n",
       "</table>\n",
       "</div>"
      ],
      "text/plain": [
       "  ticker fiscalDateEnding  div_payout_avg  ebitda_margin_avg   roe_avg  \\\n",
       "0   AAPL       2024-03-31        0.157966           0.059154  3.974703   \n",
       "1    ACN       2024-05-31        0.428729          -1.068525 -0.237590   \n",
       "3   AMAT       2024-04-28        0.152171           0.017693  0.346517   \n",
       "4    AMD       2024-03-31        0.058902          -0.533719 -1.064009   \n",
       "7   AVGO       2024-05-05        0.587224           1.373367  0.349454   \n",
       "\n",
       "   cash_to_assets_avg  debt_ebitda  ebitda_ltm_g_avg  Log_div_payout  \n",
       "0            0.241780    -0.474476         -1.416715       -1.845376  \n",
       "1            0.892381    -0.649091          0.852128       -0.846931  \n",
       "3            2.430422    -0.532184          0.605138       -1.882752  \n",
       "4           -0.495309    -0.565855          1.648311       -2.831888  \n",
       "7            0.741456     0.822233         -0.515408       -0.532349  "
      ]
     },
     "execution_count": 485,
     "metadata": {},
     "output_type": "execute_result"
    }
   ],
   "source": [
    "from sklearn.preprocessing import StandardScaler\n",
    "\n",
    "# features standartization\n",
    "scaler = StandardScaler()\n",
    "financials_clean[features] = scaler.fit_transform(financials_clean[features])\n",
    "financials_clean.head()"
   ]
  },
  {
   "cell_type": "code",
   "execution_count": 487,
   "id": "15de8210-566c-431c-b0be-7867ab0b1600",
   "metadata": {
    "tags": []
   },
   "outputs": [],
   "source": [
    "# train test split\n",
    "from sklearn.model_selection import train_test_split\n",
    "\n",
    "X = financials_clean[features]\n",
    "y = financials_clean[target]\n",
    "\n",
    "X_train, X_test, y_train, y_test = train_test_split(X, y, test_size=0.30, random_state=42)"
   ]
  },
  {
   "cell_type": "markdown",
   "id": "8b75481e-6903-468d-878f-00aab6661cc8",
   "metadata": {},
   "source": [
    "# Linear regression model"
   ]
  },
  {
   "cell_type": "code",
   "execution_count": null,
   "id": "b1f15601-cfde-4af7-8f32-8b5740de6953",
   "metadata": {
    "tags": []
   },
   "outputs": [],
   "source": [
    "from sklearn.linear_model import LinearRegression\n",
    "from sklearn.metrics import r2_score\n",
    "\n",
    "model = LinearRegression()\n",
    "model.fit(X_train, y_train)\n",
    "pred = model.predict(X_test)\n",
    "print(\"R-квадрат на обучающем наборе: {:.2f}\".format(model.score(X_train, y_train))) \n",
    "print(\"R-квадрат на тестовом наборе: {:.2f}\".format(model.score(X_test, y_test)))"
   ]
  }
 ],
 "metadata": {
  "kernelspec": {
   "display_name": "Python 3 (ipykernel)",
   "language": "python",
   "name": "python3"
  },
  "language_info": {
   "codemirror_mode": {
    "name": "ipython",
    "version": 3
   },
   "file_extension": ".py",
   "mimetype": "text/x-python",
   "name": "python",
   "nbconvert_exporter": "python",
   "pygments_lexer": "ipython3",
   "version": "3.11.5"
  }
 },
 "nbformat": 4,
 "nbformat_minor": 5
}
