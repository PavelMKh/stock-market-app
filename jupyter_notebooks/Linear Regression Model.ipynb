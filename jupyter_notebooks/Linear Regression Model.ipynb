{
 "cells": [
  {
   "cell_type": "markdown",
   "id": "c99faabd",
   "metadata": {},
   "source": [
    "## 1. Load data from database"
   ]
  },
  {
   "cell_type": "code",
   "execution_count": 1,
   "id": "d601e24e",
   "metadata": {},
   "outputs": [],
   "source": [
    "import pandas as pd\n",
    "import sqlite3\n",
    "\n",
    "path = \"/Users/pavel/PycharmProjects/stock-market-app/src/financial_data.db\"\n",
    "\n",
    "sqlFinancials  = \"\"\"select *\n",
    "from balance_sheet bs\n",
    "left join pnl p\n",
    "on bs.ticker = p.ticker\n",
    "and bs.type = p.type\n",
    "and bs.fiscalDateEnding = p.fiscalDateEnding\n",
    "left join cash_flow cf\n",
    "on bs.ticker = cf.ticker\n",
    "and bs.type = cf.type\n",
    "and bs.fiscalDateEnding = cf.fiscalDateEnding\n",
    "\"\"\"\n",
    "conn = sqlite3.connect(path)\n",
    "financials_db = pd.read_sql(sqlFinancials, conn)\n",
    "conn.close()\n",
    "\n",
    "financials_db = financials_db.loc[:, ~financials_db.columns.duplicated()]\n",
    "\n",
    "sqlCandles = \"select * from candles\"\n",
    "conn = sqlite3.connect(path)\n",
    "candles_db = pd.read_sql(sqlCandles, conn)\n",
    "conn.close()\n",
    "\n",
    "# Counting forward looking 90-days average\n",
    "candles = candles_db[['date_time','ticker', 'close']].copy()\n",
    "candles = candles.sort_values(['ticker', 'date_time'])\n",
    "candles['avg_90d'] = (\n",
    "    candles.groupby('ticker')['close']\n",
    "    .apply(lambda x: x.shift(-90).rolling(90).mean())\n",
    "    .reset_index(level=0, drop=True)\n",
    ")\n",
    "\n",
    "\n",
    "# Merge financials and stock prices data\n",
    "candles['date_time'] = pd.to_datetime(candles['date_time'])\n",
    "\n",
    "financials_db['fiscalDateEnding'] = pd.to_datetime(financials_db['fiscalDateEnding'])\n",
    "\n",
    "candles = candles.sort_values(by='date_time')\n",
    "financials_db = financials_db.sort_values(by='fiscalDateEnding')\n",
    "\n",
    "financials_data = pd.merge_asof(\n",
    "    financials_db,\n",
    "    candles,\n",
    "    left_on='fiscalDateEnding',\n",
    "    right_on='date_time',\n",
    "    by='ticker',\n",
    "    direction='nearest'  # use nearest valus\n",
    ")\n",
    "\n",
    "financials = financials_data[financials_data['type'] == 'quarterly'].copy()"
   ]
  },
  {
   "cell_type": "markdown",
   "id": "3b2038bb",
   "metadata": {},
   "source": [
    "## 2. Creating dataset"
   ]
  },
  {
   "cell_type": "code",
   "execution_count": 2,
   "id": "e406700e",
   "metadata": {},
   "outputs": [],
   "source": [
    "# Create features:\n",
    "# - ebitda growth: ebitda_t / ebitda_t-1\n",
    "financials['ebitda_g'] = financials['ebitda'] / financials['ebitda'].shift(1)\n",
    "\n",
    "# - sales growth: sales_t / sales_t-1\n",
    "financials['sales_g'] = financials['totalRevenue'] / financials['totalRevenue'].shift(1)\n",
    "# - net_income growth: net_income_t / net_income_t-1\n",
    "financials['net_income_g'] = financials['netIncome'] / financials['netIncome'].shift(1)\n",
    "\n",
    "# - ebitda margin: ebitda / sales\n",
    "financials['ebitda_margin'] = financials['ebitda'] / financials['totalRevenue']\n",
    "\n",
    "# - ebitda margin growth: em_t / em_t-1\n",
    "financials['ebitda_margin_g'] = financials['ebitda_margin'] / financials['ebitda_margin'].shift(1)\n",
    "\n",
    "# - debt-to-ebitda\n",
    "financials['ebitda_ltm'] = financials['ebitda'].rolling(4).sum()\n",
    "financials['debt_ebitda'] = (financials['shortTermDebt'] + financials['longTermDebt']) / financials['ebitda_ltm']\n",
    "\n",
    "# - ebitda_ltm growth\n",
    "financials['ebitda_ltm_g'] = financials['ebitda_ltm'] / financials['ebitda_ltm'].shift(1)\n",
    "\n",
    "# - ebitda_ltm growth\n",
    "financials['avg_90d_g'] = financials['avg_90d'] / financials['avg_90d'].shift(1)"
   ]
  },
  {
   "cell_type": "code",
   "execution_count": 3,
   "id": "287c657e",
   "metadata": {},
   "outputs": [],
   "source": [
    "# input parameters\n",
    "selected_tickers = financials['ticker'].unique()\n",
    "features = ['ebitda_g', 'sales_g', 'net_income_g', 'ebitda_margin',\n",
    "                   'ebitda_margin_g', 'ebitda_ltm_g', 'debt_ebitda']\n",
    "target = 'avg_90d_g'\n",
    "start_date = '2019-01-01'\n",
    "end_date = '2024-12-31'"
   ]
  },
  {
   "cell_type": "code",
   "execution_count": 4,
   "id": "d4480abd",
   "metadata": {},
   "outputs": [],
   "source": [
    "# creating dataset\n",
    "data = financials[(financials['fiscalDateEnding'] >= start_date) &\n",
    "                    (financials['fiscalDateEnding'] <= end_date)][['avg_90d', 'avg_90d_g', 'ticker', 'fiscalDateEnding', 'ebitda', 'totalRevenue', 'netIncome', 'ebitda_g', 'sales_g', 'net_income_g', 'ebitda_margin',\n",
    "                   'ebitda_margin_g', 'ebitda_ltm', 'ebitda_ltm_g', 'debt_ebitda']].copy()"
   ]
  },
  {
   "cell_type": "markdown",
   "id": "7c5a6d06",
   "metadata": {},
   "source": [
    "## 3. Analysis of dataset"
   ]
  },
  {
   "cell_type": "code",
   "execution_count": null,
   "id": "c2e7cdef",
   "metadata": {},
   "outputs": [],
   "source": [
    "# check for missing values\n",
    "import numpy as np \n",
    "import matplotlib.pyplot as plt \n",
    "import seaborn as sns \n",
    "\n",
    "plt.figure(figsize=(12,4))\n",
    "sns.heatmap(data.isnull(),cbar=False,cmap='viridis',yticklabels=False)\n",
    "plt.title('Missing value in the dataset')"
   ]
  },
  {
   "cell_type": "code",
   "execution_count": 8,
   "id": "913d21a2",
   "metadata": {},
   "outputs": [],
   "source": [
    "data_without_nan = data.dropna().copy()"
   ]
  },
  {
   "cell_type": "code",
   "execution_count": null,
   "id": "8f3f5e27",
   "metadata": {},
   "outputs": [],
   "source": [
    "# correlation analysis\n",
    "for ticker in selected_tickers:\n",
    "    corr = data[(data['ticker'] == ticker)][features].corr()\n",
    "    plt.figure(figsize=(8, 6))\n",
    "    sns.heatmap(corr, cmap='Wistia', annot=True, fmt=\".2f\", cbar=True)\n",
    "    plt.title(f'Correlation matrix for {ticker}')\n",
    "    plt.show()"
   ]
  },
  {
   "cell_type": "code",
   "execution_count": null,
   "id": "a861482e",
   "metadata": {},
   "outputs": [],
   "source": [
    "# analyze distribution\n",
    "for ticker in selected_tickers:\n",
    "    for financial in features:\n",
    "        f= plt.figure(figsize=(12,4))\n",
    "        ax=f.add_subplot(121)\n",
    "        sns.distplot(data[financial],bins=50,color='r',ax=ax)\n",
    "        ax.set_title(f'Distribution of {financial} for {ticker}')\n",
    "\n",
    "        ax=f.add_subplot(122)\n",
    "        sns.distplot(np.log10(data[financial]),bins=40,color='b',ax=ax)\n",
    "        ax.set_title(f'Distribution of {financial} in $log$ sacle for {ticker}')\n",
    "        ax.set_xscale('log')"
   ]
  },
  {
   "cell_type": "markdown",
   "id": "9a09ab9f",
   "metadata": {},
   "source": [
    "## 4. Analysis of correlations between the target variable and the features"
   ]
  },
  {
   "cell_type": "code",
   "execution_count": 6,
   "id": "8dce270d",
   "metadata": {},
   "outputs": [],
   "source": [
    "# create a scatter diagram\n",
    "def scatterPlotForTicker(data, tickers, features, target):\n",
    "    for ticker in tickers:\n",
    "        for feature in features:\n",
    "            plt.figure()\n",
    "            plt.scatter(data[(data['ticker'] == ticker)][feature], data[(data['ticker'] == ticker)][target])\n",
    "            plt.title(f'Scatter Plot for {ticker} - {feature} vs {target}')\n",
    "            plt.xlabel(feature)\n",
    "            plt.ylabel(target)\n",
    "            plt.grid(True)\n",
    "            plt.show()"
   ]
  },
  {
   "cell_type": "code",
   "execution_count": null,
   "id": "5112865e",
   "metadata": {},
   "outputs": [],
   "source": [
    "scatterPlotForTicker(data_without_nan, selected_tickers, features, target)"
   ]
  },
  {
   "cell_type": "code",
   "execution_count": 21,
   "id": "dbfff913",
   "metadata": {},
   "outputs": [],
   "source": [
    "def correlationTableTickers(data, features, target, tickers):\n",
    "    correlation_results = pd.DataFrame(columns=['Ticker', 'Feature', 'Correlation with Target'])\n",
    "    for ticker in tickers:\n",
    "        ticker_data = data[data['ticker'] == ticker]\n",
    "        if not ticker_data.empty:\n",
    "            for feature in features:\n",
    "                correlation = ticker_data[feature].corr(ticker_data[target])\n",
    "                new_row = pd.DataFrame({'Ticker': [ticker], 'Feature': [feature], 'Correlation with Target': [correlation]})\n",
    "                correlation_results = pd.concat([correlation_results, new_row], ignore_index=True)\n",
    "    correlation_results = correlation_results.sort_values(by='Correlation with Target', ascending=False)\n",
    "    return correlation_results"
   ]
  },
  {
   "cell_type": "code",
   "execution_count": null,
   "id": "7c966112",
   "metadata": {},
   "outputs": [],
   "source": [
    "res = correlationTableTickers(data_without_nan, ['ebitda_g', 'sales_g', 'ebitda_ltm_g'], target, selected_tickers)\n",
    "res.head(15)"
   ]
  },
  {
   "cell_type": "code",
   "execution_count": null,
   "id": "302e4e9a",
   "metadata": {},
   "outputs": [],
   "source": [
    "scatterPlotForTicker(data_without_nan, ['KO', 'ACN', 'AMD', 'ASML', 'NKE', 'MU', 'ASML', 'CMCSA', 'UPS', 'ET', 'IBM', 'COP', 'QCOM'], \n",
    "                      ['ebitda_g', 'sales_g', 'ebitda_ltm_g'], target)"
   ]
  },
  {
   "cell_type": "code",
   "execution_count": 31,
   "id": "95a1a80e",
   "metadata": {},
   "outputs": [],
   "source": [
    "# tickers for model 'KO', 'COP', 'IBM', 'CMCSA', 'QCOM', 'UPS'\n",
    "# delete outliers\n",
    "data_clean = data_without_nan[\n",
    "    (data_without_nan['ticker'].isin(['KO', 'COP', 'IBM', 'CMCSA', 'QCOM', 'UPS'])) &\n",
    "    (\n",
    "        ((data_without_nan['ticker'] == 'KO') & (data_without_nan['avg_90d_g'] < 3)) |\n",
    "        ((data_without_nan['ticker'] == 'COP') & (data_without_nan['avg_90d_g'] < 4)) | \n",
    "        ((data_without_nan['ticker'] == 'IBM') & (data_without_nan['ebitda_g'] < 10)) | \n",
    "        ((data_without_nan['ticker'] == 'CMCSA') & (data_without_nan['ebitda_g'] > -5)) |\n",
    "        ((data_without_nan['ticker'] == 'QCOM')) |\n",
    "        ((data_without_nan['ticker'] == 'UPS'))\n",
    "    )\n",
    "].copy()"
   ]
  },
  {
   "cell_type": "code",
   "execution_count": null,
   "id": "9ef2d52f",
   "metadata": {},
   "outputs": [],
   "source": [
    "scatterPlotForTicker(data_clean, ['KO', 'COP', 'IBM', 'CMCSA', 'QCOM', 'UPS'], \n",
    "                      ['ebitda_g', 'sales_g', 'ebitda_ltm_g'], target)"
   ]
  }
 ],
 "metadata": {
  "kernelspec": {
   "display_name": "Python 3 (ipykernel)",
   "language": "python",
   "name": "python3"
  },
  "language_info": {
   "codemirror_mode": {
    "name": "ipython",
    "version": 3
   },
   "file_extension": ".py",
   "mimetype": "text/x-python",
   "name": "python",
   "nbconvert_exporter": "python",
   "pygments_lexer": "ipython3",
   "version": "3.11.7"
  }
 },
 "nbformat": 4,
 "nbformat_minor": 5
}
