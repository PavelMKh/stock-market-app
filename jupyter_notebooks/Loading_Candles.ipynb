{
  "nbformat": 4,
  "nbformat_minor": 0,
  "metadata": {
    "colab": {
      "provenance": [],
      "authorship_tag": "ABX9TyOK1JNXvIJji8b16Yo/tbWe"
    },
    "kernelspec": {
      "name": "python3",
      "display_name": "Python 3"
    },
    "language_info": {
      "name": "python"
    }
  },
  "cells": [
    {
      "cell_type": "code",
      "execution_count": null,
      "metadata": {
        "id": "ZthELvaYNoiP"
      },
      "outputs": [],
      "source": [
        "import json\n",
        "import requests\n",
        "\n",
        "# replace the \"demo\" apikey below with your own key from https://www.alphavantage.co/support/#api-key\n",
        "url = 'https://www.alphavantage.co/query?function=TIME_SERIES_DAILY&symbol=IBM&apikey=demo'\n",
        "r = requests.get(url)\n",
        "data = r.json()\n",
        "\n",
        "print(data)"
      ]
    },
    {
      "cell_type": "code",
      "source": [
        "# create candle model\n",
        "class Candle():\n",
        "  @property\n",
        "  def id(self):\n",
        "    pass\n",
        "\n",
        "  @property\n",
        "  def date_time(self):\n",
        "    pass\n",
        "\n",
        "  @property\n",
        "  def ticker(self):\n",
        "    pass\n",
        "\n",
        "  @property\n",
        "  def interval(self):\n",
        "    pass\n",
        "\n",
        "  @"
      ],
      "metadata": {
        "id": "0LEY8p2mNvIT"
      },
      "execution_count": null,
      "outputs": []
    }
  ]
}